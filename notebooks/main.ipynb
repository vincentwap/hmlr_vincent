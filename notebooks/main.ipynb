{
 "cells": [
  {
   "cell_type": "markdown",
   "id": "9d1b3fea",
   "metadata": {},
   "source": [
    "# HMLR Assessment\n"
   ]
  },
  {
   "cell_type": "markdown",
   "id": "819a09ea",
   "metadata": {},
   "source": [
    "\n",
    "Vincent Nwaka\n",
    "- vincentwap@gmail.com\n",
    "- https://vincentwap.github.io/vincent/\n"
   ]
  },
  {
   "cell_type": "markdown",
   "id": "575f6bc6-369a-4b8c-a5ad-eb7d3169fa04",
   "metadata": {},
   "source": [
    "\n",
    "This notebook performs a deep NLP analysis of BBC News datasets.\n",
    "- Convert zip from BBC dataset available from http://mlg.ucd.ie/datasets/bbc.html\n",
    "- Sub-category classification for Business, Entertainment, and Sports using keyword heuristics\n",
    "- Named Entity Recognition (NER) with spaCy to identify media personalities and their roles\n",
    "- Visualisation of results using seaborn and matplotlib\n",
    "- Transformers for Classification - Use DistilBERT via Hugging Face to fine-tune on BBC article subcategories.\n",
    "- Event summary extraction for anything scheduled or that occurred in April\n",
    "- Large Language Models (LLMs) and their fine-tuning\n"
   ]
  },
  {
   "cell_type": "markdown",
   "id": "6dacc64c-42fe-4b61-ba0c-ebf2b1a726e6",
   "metadata": {
    "jp-MarkdownHeadingCollapsed": true
   },
   "source": [
    "# Section 1: Convert ZIP to CSV File and Combine"
   ]
  },
  {
   "cell_type": "code",
   "execution_count": 4,
   "id": "8db90e2f-b808-4239-b1f8-35037c38f621",
   "metadata": {
    "scrolled": true
   },
   "outputs": [
    {
     "name": "stdout",
     "output_type": "stream",
     "text": [
      "Collecting matplotlib\n",
      "  Downloading matplotlib-3.10.3-cp311-cp311-win_amd64.whl.metadata (11 kB)\n",
      "Collecting contourpy>=1.0.1 (from matplotlib)\n",
      "  Downloading contourpy-1.3.2-cp311-cp311-win_amd64.whl.metadata (5.5 kB)\n",
      "Collecting cycler>=0.10 (from matplotlib)\n",
      "  Downloading cycler-0.12.1-py3-none-any.whl.metadata (3.8 kB)\n",
      "Collecting fonttools>=4.22.0 (from matplotlib)\n",
      "  Downloading fonttools-4.58.5-cp311-cp311-win_amd64.whl.metadata (109 kB)\n",
      "Collecting kiwisolver>=1.3.1 (from matplotlib)\n",
      "  Downloading kiwisolver-1.4.8-cp311-cp311-win_amd64.whl.metadata (6.3 kB)\n",
      "Requirement already satisfied: numpy>=1.23 in c:\\users\\vincent\\anaconda3\\envs\\clean_env\\lib\\site-packages (from matplotlib) (1.26.4)\n",
      "Requirement already satisfied: packaging>=20.0 in c:\\users\\vincent\\anaconda3\\envs\\clean_env\\lib\\site-packages (from matplotlib) (24.2)\n",
      "Collecting pillow>=8 (from matplotlib)\n",
      "  Downloading pillow-11.3.0-cp311-cp311-win_amd64.whl.metadata (9.2 kB)\n",
      "Collecting pyparsing>=2.3.1 (from matplotlib)\n",
      "  Downloading pyparsing-3.2.3-py3-none-any.whl.metadata (5.0 kB)\n",
      "Requirement already satisfied: python-dateutil>=2.7 in c:\\users\\vincent\\anaconda3\\envs\\clean_env\\lib\\site-packages (from matplotlib) (2.9.0.post0)\n",
      "Requirement already satisfied: six>=1.5 in c:\\users\\vincent\\anaconda3\\envs\\clean_env\\lib\\site-packages (from python-dateutil>=2.7->matplotlib) (1.17.0)\n",
      "Downloading matplotlib-3.10.3-cp311-cp311-win_amd64.whl (8.1 MB)\n",
      "   ---------------------------------------- 0.0/8.1 MB ? eta -:--:--\n",
      "   ------- -------------------------------- 1.6/8.1 MB 7.6 MB/s eta 0:00:01\n",
      "   ------------------ --------------------- 3.7/8.1 MB 8.4 MB/s eta 0:00:01\n",
      "   --------------------------- ------------ 5.5/8.1 MB 8.6 MB/s eta 0:00:01\n",
      "   ------------------------------------ --- 7.3/8.1 MB 8.7 MB/s eta 0:00:01\n",
      "   ---------------------------------------- 8.1/8.1 MB 8.2 MB/s eta 0:00:00\n",
      "Downloading contourpy-1.3.2-cp311-cp311-win_amd64.whl (222 kB)\n",
      "Downloading cycler-0.12.1-py3-none-any.whl (8.3 kB)\n",
      "Downloading fonttools-4.58.5-cp311-cp311-win_amd64.whl (2.2 MB)\n",
      "   ---------------------------------------- 0.0/2.2 MB ? eta -:--:--\n",
      "   -------------------------------- ------- 1.8/2.2 MB 8.4 MB/s eta 0:00:01\n",
      "   ---------------------------------------- 2.2/2.2 MB 7.9 MB/s eta 0:00:00\n",
      "Downloading kiwisolver-1.4.8-cp311-cp311-win_amd64.whl (71 kB)\n",
      "Downloading pillow-11.3.0-cp311-cp311-win_amd64.whl (7.0 MB)\n",
      "   ---------------------------------------- 0.0/7.0 MB ? eta -:--:--\n",
      "   --------- ------------------------------ 1.6/7.0 MB 8.4 MB/s eta 0:00:01\n",
      "   ------------------- -------------------- 3.4/7.0 MB 8.8 MB/s eta 0:00:01\n",
      "   ------------------------------ --------- 5.2/7.0 MB 8.6 MB/s eta 0:00:01\n",
      "   ---------------------------------------  6.8/7.0 MB 8.6 MB/s eta 0:00:01\n",
      "   ---------------------------------------- 7.0/7.0 MB 8.0 MB/s eta 0:00:00\n",
      "Downloading pyparsing-3.2.3-py3-none-any.whl (111 kB)\n",
      "Installing collected packages: pyparsing, pillow, kiwisolver, fonttools, cycler, contourpy, matplotlib\n",
      "\n",
      "   ---------------------------------------- 0/7 [pyparsing]\n",
      "   ---------------------------------------- 0/7 [pyparsing]\n",
      "   ---------------------------------------- 0/7 [pyparsing]\n",
      "   ----- ---------------------------------- 1/7 [pillow]\n",
      "   ----- ---------------------------------- 1/7 [pillow]\n",
      "   ----- ---------------------------------- 1/7 [pillow]\n",
      "   ----- ---------------------------------- 1/7 [pillow]\n",
      "   ----- ---------------------------------- 1/7 [pillow]\n",
      "   ----- ---------------------------------- 1/7 [pillow]\n",
      "   ----- ---------------------------------- 1/7 [pillow]\n",
      "   ----- ---------------------------------- 1/7 [pillow]\n",
      "   ----- ---------------------------------- 1/7 [pillow]\n",
      "   ----- ---------------------------------- 1/7 [pillow]\n",
      "   ----- ---------------------------------- 1/7 [pillow]\n",
      "   ----- ---------------------------------- 1/7 [pillow]\n",
      "   ----- ---------------------------------- 1/7 [pillow]\n",
      "   ----- ---------------------------------- 1/7 [pillow]\n",
      "   ----------------- ---------------------- 3/7 [fonttools]\n",
      "   ----------------- ---------------------- 3/7 [fonttools]\n",
      "   ----------------- ---------------------- 3/7 [fonttools]\n",
      "   ----------------- ---------------------- 3/7 [fonttools]\n",
      "   ----------------- ---------------------- 3/7 [fonttools]\n",
      "   ----------------- ---------------------- 3/7 [fonttools]\n",
      "   ----------------- ---------------------- 3/7 [fonttools]\n",
      "   ----------------- ---------------------- 3/7 [fonttools]\n",
      "   ----------------- ---------------------- 3/7 [fonttools]\n",
      "   ----------------- ---------------------- 3/7 [fonttools]\n",
      "   ----------------- ---------------------- 3/7 [fonttools]\n",
      "   ----------------- ---------------------- 3/7 [fonttools]\n",
      "   ----------------- ---------------------- 3/7 [fonttools]\n",
      "   ----------------- ---------------------- 3/7 [fonttools]\n",
      "   ----------------- ---------------------- 3/7 [fonttools]\n",
      "   ----------------- ---------------------- 3/7 [fonttools]\n",
      "   ----------------- ---------------------- 3/7 [fonttools]\n",
      "   ----------------- ---------------------- 3/7 [fonttools]\n",
      "   ----------------- ---------------------- 3/7 [fonttools]\n",
      "   ----------------- ---------------------- 3/7 [fonttools]\n",
      "   ----------------- ---------------------- 3/7 [fonttools]\n",
      "   ----------------- ---------------------- 3/7 [fonttools]\n",
      "   ----------------- ---------------------- 3/7 [fonttools]\n",
      "   ----------------- ---------------------- 3/7 [fonttools]\n",
      "   ----------------- ---------------------- 3/7 [fonttools]\n",
      "   ----------------- ---------------------- 3/7 [fonttools]\n",
      "   ----------------- ---------------------- 3/7 [fonttools]\n",
      "   ----------------- ---------------------- 3/7 [fonttools]\n",
      "   ----------------- ---------------------- 3/7 [fonttools]\n",
      "   ----------------- ---------------------- 3/7 [fonttools]\n",
      "   ----------------- ---------------------- 3/7 [fonttools]\n",
      "   ----------------- ---------------------- 3/7 [fonttools]\n",
      "   ----------------- ---------------------- 3/7 [fonttools]\n",
      "   ----------------- ---------------------- 3/7 [fonttools]\n",
      "   ----------------- ---------------------- 3/7 [fonttools]\n",
      "   ----------------- ---------------------- 3/7 [fonttools]\n",
      "   ----------------- ---------------------- 3/7 [fonttools]\n",
      "   ----------------- ---------------------- 3/7 [fonttools]\n",
      "   ----------------- ---------------------- 3/7 [fonttools]\n",
      "   ---------------------------- ----------- 5/7 [contourpy]\n",
      "   ---------------------------- ----------- 5/7 [contourpy]\n",
      "   ---------------------------------- ----- 6/7 [matplotlib]\n",
      "   ---------------------------------- ----- 6/7 [matplotlib]\n",
      "   ---------------------------------- ----- 6/7 [matplotlib]\n",
      "   ---------------------------------- ----- 6/7 [matplotlib]\n",
      "   ---------------------------------- ----- 6/7 [matplotlib]\n",
      "   ---------------------------------- ----- 6/7 [matplotlib]\n",
      "   ---------------------------------- ----- 6/7 [matplotlib]\n",
      "   ---------------------------------- ----- 6/7 [matplotlib]\n",
      "   ---------------------------------- ----- 6/7 [matplotlib]\n",
      "   ---------------------------------- ----- 6/7 [matplotlib]\n",
      "   ---------------------------------- ----- 6/7 [matplotlib]\n",
      "   ---------------------------------- ----- 6/7 [matplotlib]\n",
      "   ---------------------------------- ----- 6/7 [matplotlib]\n",
      "   ---------------------------------- ----- 6/7 [matplotlib]\n",
      "   ---------------------------------- ----- 6/7 [matplotlib]\n",
      "   ---------------------------------- ----- 6/7 [matplotlib]\n",
      "   ---------------------------------- ----- 6/7 [matplotlib]\n",
      "   ---------------------------------- ----- 6/7 [matplotlib]\n",
      "   ---------------------------------- ----- 6/7 [matplotlib]\n",
      "   ---------------------------------- ----- 6/7 [matplotlib]\n",
      "   ---------------------------------- ----- 6/7 [matplotlib]\n",
      "   ---------------------------------- ----- 6/7 [matplotlib]\n",
      "   ---------------------------------- ----- 6/7 [matplotlib]\n",
      "   ---------------------------------- ----- 6/7 [matplotlib]\n",
      "   ---------------------------------- ----- 6/7 [matplotlib]\n",
      "   ---------------------------------- ----- 6/7 [matplotlib]\n",
      "   ---------------------------------- ----- 6/7 [matplotlib]\n",
      "   ---------------------------------- ----- 6/7 [matplotlib]\n",
      "   ---------------------------------- ----- 6/7 [matplotlib]\n",
      "   ---------------------------------- ----- 6/7 [matplotlib]\n",
      "   ---------------------------------- ----- 6/7 [matplotlib]\n",
      "   ---------------------------------- ----- 6/7 [matplotlib]\n",
      "   ---------------------------------- ----- 6/7 [matplotlib]\n",
      "   ---------------------------------- ----- 6/7 [matplotlib]\n",
      "   ---------------------------------- ----- 6/7 [matplotlib]\n",
      "   ---------------------------------- ----- 6/7 [matplotlib]\n",
      "   ---------------------------------- ----- 6/7 [matplotlib]\n",
      "   ---------------------------------- ----- 6/7 [matplotlib]\n",
      "   ---------------------------------- ----- 6/7 [matplotlib]\n",
      "   ---------------------------------- ----- 6/7 [matplotlib]\n",
      "   ---------------------------------- ----- 6/7 [matplotlib]\n",
      "   ---------------------------------- ----- 6/7 [matplotlib]\n",
      "   ---------------------------------- ----- 6/7 [matplotlib]\n",
      "   ---------------------------------------- 7/7 [matplotlib]\n",
      "\n",
      "Successfully installed contourpy-1.3.2 cycler-0.12.1 fonttools-4.58.5 kiwisolver-1.4.8 matplotlib-3.10.3 pillow-11.3.0 pyparsing-3.2.3\n"
     ]
    }
   ],
   "source": [
    "!pip install matplotlib\n",
    "!pip install seaborn\n",
    "!pip install spacy"
   ]
  },
  {
   "cell_type": "code",
   "execution_count": 6,
   "id": "a799ab91",
   "metadata": {},
   "outputs": [],
   "source": [
    "import zipfile\n",
    "import pandas as pd\n",
    "import re\n",
    "import matplotlib.pyplot as plt\n",
    "import seaborn as sns\n",
    "import spacy\n",
    "from collections import defaultdict\n",
    "\n",
    "# Load spaCy English model\n",
    "nlp = spacy.load(\"en_core_web_sm\")\n",
    "\n",
    "# Style for plots\n",
    "sns.set(style=\"whitegrid\")\n"
   ]
  },
  {
   "cell_type": "code",
   "execution_count": 7,
   "id": "a97d2603-d864-45be-bf4b-f648e24051eb",
   "metadata": {},
   "outputs": [],
   "source": [
    "# convert zip file to csv file\n",
    "\n",
    "def zip_to_csv(zip_path, output_csv):\n",
    "    texts, categories, filenames = [], [], []\n",
    "\n",
    "    with zipfile.ZipFile(zip_path, 'r') as zip_ref:\n",
    "        for file_name in zip_ref.namelist():\n",
    "            # Process only text files\n",
    "            if file_name.endswith('.txt') and not file_name.endswith('NA.TXT'):\n",
    "                # Extract the category from the file path (assuming structure: folder/category/filename.txt)\n",
    "                parts = file_name.split('/')\n",
    "                if len(parts) >= 3:\n",
    "                    category = parts[-2]\n",
    "                    filename = parts[-1]\n",
    "\n",
    "                    with zip_ref.open(file_name) as file:\n",
    "                        content = file.read().decode('utf-8', errors='ignore')\n",
    "                        texts.append(content)\n",
    "                        categories.append(category)\n",
    "                        filenames.append(filename)\n",
    "\n",
    "    # Create a DataFrame\n",
    "    df = pd.DataFrame({\n",
    "        'filename': filenames,\n",
    "        'category': categories,\n",
    "        'text': texts\n",
    "    })\n",
    "\n",
    "    # Save DataFrame to CSV\n",
    "    df.to_csv(output_csv, index=False)\n",
    "    print(f\"CSV file created successfully: {output_csv}\")"
   ]
  },
  {
   "cell_type": "code",
   "execution_count": 8,
   "id": "bd55f8ce-cbec-4650-a259-e824307bcba4",
   "metadata": {},
   "outputs": [
    {
     "name": "stdout",
     "output_type": "stream",
     "text": [
      "CSV file created successfully: bbc_news_dataset.csv\n",
      "CSV file created successfully: bbc_sport_dataset.csv\n"
     ]
    }
   ],
   "source": [
    "# zip files download from http://mlg.ucd.ie/datasets/bbc.html\n",
    "bbc_zip_path = 'bbc-fulltext.zip'\n",
    "bbc_sport_zip_path = 'bbcsport-fulltext.zip'\n",
    "\n",
    "# Convert BBC News dataset to CSV\n",
    "zip_to_csv(bbc_zip_path, 'bbc_news_dataset.csv')\n",
    "\n",
    "# Convert BBC Sport dataset to CSV\n",
    "zip_to_csv(bbc_sport_zip_path, 'bbc_sport_dataset.csv')"
   ]
  },
  {
   "cell_type": "code",
   "execution_count": 9,
   "id": "e2bec530",
   "metadata": {},
   "outputs": [],
   "source": [
    "# Load the two CSVs file and combied\n",
    "news_df = pd.read_csv(\"bbc_news_dataset.csv\")\n",
    "sport_df = pd.read_csv(\"bbc_sport_dataset.csv\")\n",
    "\n",
    "# Merge into one dataset\n",
    "combined_df = pd.concat([news_df, sport_df], ignore_index=True)\n",
    "\n",
    "# Extract headlines (first line of 'text')\n",
    "combined_df['headline'] = combined_df['text'].apply(lambda x: x.split('\\n')[0] if isinstance(x, str) else '')\n"
   ]
  },
  {
   "cell_type": "code",
   "execution_count": 5,
   "id": "721e1469-fa18-4c65-af5c-bfb2ac3d7dee",
   "metadata": {},
   "outputs": [
    {
     "data": {
      "text/html": [
       "<div>\n",
       "<style scoped>\n",
       "    .dataframe tbody tr th:only-of-type {\n",
       "        vertical-align: middle;\n",
       "    }\n",
       "\n",
       "    .dataframe tbody tr th {\n",
       "        vertical-align: top;\n",
       "    }\n",
       "\n",
       "    .dataframe thead th {\n",
       "        text-align: right;\n",
       "    }\n",
       "</style>\n",
       "<table border=\"1\" class=\"dataframe\">\n",
       "  <thead>\n",
       "    <tr style=\"text-align: right;\">\n",
       "      <th></th>\n",
       "      <th>filename</th>\n",
       "      <th>category</th>\n",
       "      <th>text</th>\n",
       "      <th>headline</th>\n",
       "    </tr>\n",
       "  </thead>\n",
       "  <tbody>\n",
       "    <tr>\n",
       "      <th>0</th>\n",
       "      <td>289.txt</td>\n",
       "      <td>entertainment</td>\n",
       "      <td>Musicians to tackle US red tape\\n\\nMusicians' ...</td>\n",
       "      <td>Musicians to tackle US red tape</td>\n",
       "    </tr>\n",
       "    <tr>\n",
       "      <th>1</th>\n",
       "      <td>262.txt</td>\n",
       "      <td>entertainment</td>\n",
       "      <td>U2's desire to be number one\\n\\nU2, who have w...</td>\n",
       "      <td>U2's desire to be number one</td>\n",
       "    </tr>\n",
       "    <tr>\n",
       "      <th>2</th>\n",
       "      <td>276.txt</td>\n",
       "      <td>entertainment</td>\n",
       "      <td>Rocker Doherty in on-stage fight\\n\\nRock singe...</td>\n",
       "      <td>Rocker Doherty in on-stage fight</td>\n",
       "    </tr>\n",
       "    <tr>\n",
       "      <th>3</th>\n",
       "      <td>060.txt</td>\n",
       "      <td>entertainment</td>\n",
       "      <td>Snicket tops US box office chart\\n\\nThe film a...</td>\n",
       "      <td>Snicket tops US box office chart</td>\n",
       "    </tr>\n",
       "    <tr>\n",
       "      <th>4</th>\n",
       "      <td>074.txt</td>\n",
       "      <td>entertainment</td>\n",
       "      <td>Ocean's Twelve raids box office\\n\\nOcean's Twe...</td>\n",
       "      <td>Ocean's Twelve raids box office</td>\n",
       "    </tr>\n",
       "    <tr>\n",
       "      <th>...</th>\n",
       "      <td>...</td>\n",
       "      <td>...</td>\n",
       "      <td>...</td>\n",
       "      <td>...</td>\n",
       "    </tr>\n",
       "    <tr>\n",
       "      <th>2957</th>\n",
       "      <td>051.txt</td>\n",
       "      <td>tennis</td>\n",
       "      <td>Capriati out of Australian Open\\n\\nJennifer Ca...</td>\n",
       "      <td>Capriati out of Australian Open</td>\n",
       "    </tr>\n",
       "    <tr>\n",
       "      <th>2958</th>\n",
       "      <td>045.txt</td>\n",
       "      <td>tennis</td>\n",
       "      <td>Henin-Hardenne beaten on comeback\\n\\nJustine H...</td>\n",
       "      <td>Henin-Hardenne beaten on comeback</td>\n",
       "    </tr>\n",
       "    <tr>\n",
       "      <th>2959</th>\n",
       "      <td>079.txt</td>\n",
       "      <td>tennis</td>\n",
       "      <td>Moya sidesteps Davis Cup in 2005\\n\\nCarlos Moy...</td>\n",
       "      <td>Moya sidesteps Davis Cup in 2005</td>\n",
       "    </tr>\n",
       "    <tr>\n",
       "      <th>2960</th>\n",
       "      <td>092.txt</td>\n",
       "      <td>tennis</td>\n",
       "      <td>Australia miss Molik for Fed Cup\\n\\nAustralia ...</td>\n",
       "      <td>Australia miss Molik for Fed Cup</td>\n",
       "    </tr>\n",
       "    <tr>\n",
       "      <th>2961</th>\n",
       "      <td>086.txt</td>\n",
       "      <td>tennis</td>\n",
       "      <td>Rusedski forced out in Marseille\\n\\nGreg Rused...</td>\n",
       "      <td>Rusedski forced out in Marseille</td>\n",
       "    </tr>\n",
       "  </tbody>\n",
       "</table>\n",
       "<p>2962 rows × 4 columns</p>\n",
       "</div>"
      ],
      "text/plain": [
       "     filename       category  \\\n",
       "0     289.txt  entertainment   \n",
       "1     262.txt  entertainment   \n",
       "2     276.txt  entertainment   \n",
       "3     060.txt  entertainment   \n",
       "4     074.txt  entertainment   \n",
       "...       ...            ...   \n",
       "2957  051.txt         tennis   \n",
       "2958  045.txt         tennis   \n",
       "2959  079.txt         tennis   \n",
       "2960  092.txt         tennis   \n",
       "2961  086.txt         tennis   \n",
       "\n",
       "                                                   text  \\\n",
       "0     Musicians to tackle US red tape\\n\\nMusicians' ...   \n",
       "1     U2's desire to be number one\\n\\nU2, who have w...   \n",
       "2     Rocker Doherty in on-stage fight\\n\\nRock singe...   \n",
       "3     Snicket tops US box office chart\\n\\nThe film a...   \n",
       "4     Ocean's Twelve raids box office\\n\\nOcean's Twe...   \n",
       "...                                                 ...   \n",
       "2957  Capriati out of Australian Open\\n\\nJennifer Ca...   \n",
       "2958  Henin-Hardenne beaten on comeback\\n\\nJustine H...   \n",
       "2959  Moya sidesteps Davis Cup in 2005\\n\\nCarlos Moy...   \n",
       "2960  Australia miss Molik for Fed Cup\\n\\nAustralia ...   \n",
       "2961  Rusedski forced out in Marseille\\n\\nGreg Rused...   \n",
       "\n",
       "                               headline  \n",
       "0       Musicians to tackle US red tape  \n",
       "1          U2's desire to be number one  \n",
       "2      Rocker Doherty in on-stage fight  \n",
       "3      Snicket tops US box office chart  \n",
       "4       Ocean's Twelve raids box office  \n",
       "...                                 ...  \n",
       "2957    Capriati out of Australian Open  \n",
       "2958  Henin-Hardenne beaten on comeback  \n",
       "2959   Moya sidesteps Davis Cup in 2005  \n",
       "2960   Australia miss Molik for Fed Cup  \n",
       "2961   Rusedski forced out in Marseille  \n",
       "\n",
       "[2962 rows x 4 columns]"
      ]
     },
     "execution_count": 5,
     "metadata": {},
     "output_type": "execute_result"
    }
   ],
   "source": [
    "combined_df"
   ]
  },
  {
   "cell_type": "code",
   "execution_count": 6,
   "id": "d11d6acb-b4d4-4398-a909-173e4cc33027",
   "metadata": {},
   "outputs": [
    {
     "data": {
      "text/plain": [
       "category\n",
       "sport            511\n",
       "business         510\n",
       "politics         417\n",
       "tech             401\n",
       "entertainment    386\n",
       "football         265\n",
       "rugby            147\n",
       "cricket          124\n",
       "athletics        101\n",
       "tennis           100\n",
       "Name: count, dtype: int64"
      ]
     },
     "execution_count": 6,
     "metadata": {},
     "output_type": "execute_result"
    }
   ],
   "source": [
    "combined_df['category'].value_counts()"
   ]
  },
  {
   "cell_type": "code",
   "execution_count": 10,
   "id": "ff112a91-6c08-4349-8c82-ab885d38582f",
   "metadata": {},
   "outputs": [],
   "source": [
    "# Define subcategory keyword rules\n",
    "subcat_rules = {\n",
    "    'business': {\n",
    "        'Stock Market': ['stock', 'stocks', 'shares', 'market', 'index', 'FTSE', 'Dow', 'Nasdaq'],\n",
    "        'Mergers & Acquisitions': ['acquires', 'acquisition', 'merger', 'buys', 'takeover'],\n",
    "        'Corporate News': ['company', 'CEO', 'profit', 'loss', 'launches', 'deal'],\n",
    "        'Economy/Policy': ['economy', 'inflation', 'policy', 'government', 'trade']\n",
    "    },\n",
    "    'entertainment': {\n",
    "        'Film': ['film', 'movie', 'cinema', 'box office', 'Oscar', 'actor', 'actress'],\n",
    "        'Music': ['music', 'album', 'song', 'singer', 'band', 'gig'],\n",
    "        'Literature': ['book', 'novel', 'author', 'literary'],\n",
    "        'Theatre': ['theatre', 'play', 'stage'],\n",
    "        'Television': ['TV', 'television', 'series', 'episode'],\n",
    "        'Celebrity': ['celebrity', 'star', 'gossip']\n",
    "    },\n",
    "    'sport': {\n",
    "        'Football': ['football', 'goal', 'premier league'],\n",
    "        'Cricket': ['cricket', 'wicket', 'bowler'],\n",
    "        'Tennis': ['tennis', 'grand slam'],\n",
    "        'Rugby': ['rugby', 'scrum'],\n",
    "        'Athletics': ['athletics', 'track'],\n",
    "        'Olympics': ['olympics', 'olympic']\n",
    "    }\n",
    "}"
   ]
  },
  {
   "cell_type": "code",
   "execution_count": 13,
   "id": "074148a7-40d6-4a24-ad81-25779b5a9017",
   "metadata": {},
   "outputs": [
    {
     "name": "stderr",
     "output_type": "stream",
     "text": [
      "C:\\Users\\Vincent\\AppData\\Local\\Temp\\ipykernel_17704\\110658798.py:31: SettingWithCopyWarning: \n",
      "A value is trying to be set on a copy of a slice from a DataFrame.\n",
      "Try using .loc[row_indexer,col_indexer] = value instead\n",
      "\n",
      "See the caveats in the documentation: https://pandas.pydata.org/pandas-docs/stable/user_guide/indexing.html#returning-a-view-versus-a-copy\n",
      "  ent_politics_df['entities_with_roles'] = ent_politics_df['text'].apply(lambda x: extract_entities_with_roles(str(x)))\n"
     ]
    }
   ],
   "source": [
    "def assign_subcategory(row):\n",
    "    cat = row['category'].lower()\n",
    "    headline = row['headline'].lower()\n",
    "    if cat in subcat_rules:\n",
    "        for subcat, keywords in subcat_rules[cat].items():\n",
    "            if any(kw in headline for kw in keywords):\n",
    "                return subcat\n",
    "    return 'Other'\n",
    "\n",
    "combined_df['subcategory'] = combined_df.apply(assign_subcategory, axis=1)\n",
    "\n",
    "def extract_entities_with_roles(text):\n",
    "    doc = nlp(text)\n",
    "    roles = []\n",
    "    for ent in doc.ents:\n",
    "        if ent.label_ == \"PERSON\":\n",
    "            context_window = doc[max(ent.start - 5, 0):min(ent.end + 5, len(doc))]\n",
    "            ctx = context_window.text.lower()\n",
    "            if 'prime minister' in ctx or 'president' in ctx or 'minister' in ctx:\n",
    "                roles.append((ent.text, \"Politician\"))\n",
    "            elif 'singer' in ctx or 'band' in ctx or 'musician' in ctx:\n",
    "                roles.append((ent.text, \"Musician\"))\n",
    "            elif 'actor' in ctx or 'actress' in ctx or 'film' in ctx:\n",
    "                roles.append((ent.text, \"TV/Film Personality\"))\n",
    "            elif 'coach' in ctx or 'striker' in ctx or 'athlete' in ctx:\n",
    "                roles.append((ent.text, \"Sports Personality\"))\n",
    "    return roles\n",
    "\n",
    "\n",
    "    ent_politics_df = combined_df[combined_df['category'].isin(['entertainment', 'politics'])]\n",
    "    ent_politics_df['entities_with_roles'] = ent_politics_df['text'].apply(lambda x: extract_entities_with_roles(str(x)))\n",
    "    named_entities_df = ent_politics_df[ent_politics_df['entities_with_roles'].str.len() > 0]"
   ]
  },
  {
   "cell_type": "code",
   "execution_count": 14,
   "id": "f2df658f-a7b6-4cf0-bc69-87336cb45584",
   "metadata": {},
   "outputs": [
    {
     "data": {
      "image/png": "[encoded data removed]",
      "text/plain": [
       "<Figure size 800x500 with 1 Axes>"
      ]
     },
     "metadata": {},
     "output_type": "display_data"
    }
   ],
   "source": [
    "role_counts = defaultdict(int)\n",
    "for row in named_entities_df['entities_with_roles']:\n",
    "    for _, role in row:\n",
    "        role_counts[role] += 1\n",
    "\n",
    "plt.figure(figsize=(8, 5))\n",
    "sns.barplot(x=list(role_counts.keys()), y=list(role_counts.values()))\n",
    "plt.title(\"Identified Media Personalities by Role\")\n",
    "plt.ylabel(\"Number of Mentions\")\n",
    "plt.xlabel(\"Occupation\")\n",
    "plt.tight_layout()\n",
    "plt.show()\n"
   ]
  },
  {
   "cell_type": "markdown",
   "id": "9637f535-0371-4edb-bf79-11768c2a47cf",
   "metadata": {
    "jp-MarkdownHeadingCollapsed": true
   },
   "source": [
    "# Section 2: DistilBERT NLP Analysis on BBC News Datasets"
   ]
  },
  {
   "cell_type": "markdown",
   "id": "d3b72179",
   "metadata": {},
   "source": [
    "I use `DistilBERT` from Hugging Face Transformers to classify BBC News headlines into subcategories (e.g., Sport, Entertainment, Business)."
   ]
  },
  {
   "cell_type": "code",
   "execution_count": 9,
   "id": "98d44ddd-6df4-4fe0-8ba6-02a903fd5199",
   "metadata": {},
   "outputs": [],
   "source": [
    "# Install necessary libraries\n",
    "!pip install transformers datasets accelerate -q"
   ]
  },
  {
   "cell_type": "code",
   "execution_count": 9,
   "id": "9a1b97c5-d4e0-4221-b090-b6f9d0111a69",
   "metadata": {},
   "outputs": [],
   "source": [
    "from transformers import pipeline"
   ]
  },
  {
   "cell_type": "markdown",
   "id": "009f36d3-6064-4cc3-b014-e1cf5363683d",
   "metadata": {},
   "source": [
    "## Zero-shot Classification using DistilBART MNLI"
   ]
  },
  {
   "cell_type": "code",
   "execution_count": 10,
   "id": "cc9a8877-6b05-4e9a-a52a-4d3426370cde",
   "metadata": {},
   "outputs": [
    {
     "name": "stdout",
     "output_type": "stream",
     "text": [
      "Article 1 Top Label: Politics with score 0.2096\n",
      "——————————————————————————————————————————————————\n",
      "Article 2 Top Label: Politics with score 0.1591\n",
      "——————————————————————————————————————————————————\n",
      "Article 3 Top Label: Technology with score 0.1787\n",
      "——————————————————————————————————————————————————\n",
      "Article 4 Top Label: Corporate News with score 0.1651\n",
      "——————————————————————————————————————————————————\n",
      "Article 5 Top Label: Technology with score 0.2055\n",
      "——————————————————————————————————————————————————\n"
     ]
    }
   ],
   "source": [
    "\n",
    "# Load zero-shot classification pipeline\n",
    "classifier = pipeline(\"zero-shot-classification\", model=\"valhalla/distilbart-mnli-12-1\")\n",
    "\n",
    "# Candidate labels for demo\n",
    "candidate_labels = [\"Stock Market\", \"Corporate News\", \"Music\", \"Film\", \"Football\", \"Politics\", \"Technology\"]\n",
    "\n",
    "# Test classification on 5 random samples\n",
    "sample_articles = combined_df.sample(5, random_state=42)['text'].tolist()\n",
    "\n",
    "# Classify and print results\n",
    "for i, article in enumerate(sample_articles):\n",
    "    result = classifier(article, candidate_labels)\n",
    "    print(f\"Article {i+1} Top Label: {result['labels'][0]} with score {result['scores'][0]:.4f}\")\n",
    "    print(\"—\" * 50)\n"
   ]
  },
  {
   "cell_type": "markdown",
   "id": "881cd7fe-0e04-42fb-b1a3-36913f74e810",
   "metadata": {},
   "source": [
    "## Abstractive Summarisation using DistilBART"
   ]
  },
  {
   "cell_type": "code",
   "execution_count": 12,
   "id": "d17306e4-c3b0-4c80-9ae2-695f6e7a5df1",
   "metadata": {},
   "outputs": [
    {
     "name": "stdout",
     "output_type": "stream",
     "text": [
      "Generated Summary:\n",
      "  Musicians' groups call for an end to the \"raw deal\" faced by British performers . Musicians face tougher regulations than athletes and journalists . US acts not faced with comparable expense and bureaucracy when visiting UK for promotional purposes . Department for Media, Culture and Sport working with US embassy and record industry .\n"
     ]
    }
   ],
   "source": [
    "# Load summarisation pipeline\n",
    "summariser = pipeline(\"summarization\", model=\"sshleifer/distilbart-cnn-12-6\")\n",
    "\n",
    "# Sample long article\n",
    "long_article = combined_df[combined_df['text'].str.len() > 500]['text'].iloc[0]\n",
    "\n",
    "# Generate summary\n",
    "summary = summariser(long_article, max_length=100, min_length=30, do_sample=False)\n",
    "print(\"Generated Summary:\\n\", summary[0]['summary_text'])"
   ]
  },
  {
   "cell_type": "markdown",
   "id": "690f1271-5701-4d43-af23-4a7741ea82c7",
   "metadata": {},
   "source": [
    "## Any Event took place in April "
   ]
  },
  {
   "cell_type": "code",
   "execution_count": 19,
   "id": "06c8ab9b",
   "metadata": {},
   "outputs": [
    {
     "name": "stdout",
     "output_type": "stream",
     "text": [
      "1. The chair, which looks like a car seat on a skeletal frame, should go on sale in April and is expected to cost $399 (£211).\n",
      "2. Filming is due to start in early April.\n",
      "3. \" The firm reported worldwide futures orders for athletic footwear and gear, scheduled for delivery from December 2004 to April 2005, of $4.\n",
      "4. They are next due in court on 18 April.\n",
      "5. Sri Lanka reschedule NZ Test tour\n",
      "\n",
      "Sri Lanka have rescheduled their Test series in New Zealand for April after cutting short the original tour because of the Asian tsunami disaster.\n",
      "6. During the interview Mr Kennedy revealed that he planned to structure the party's general election campaign around the birth of his first child, which is expected in April.\n",
      "7. Tickets for the June event are expected to go on sale in April.\n",
      "8. The deal, which requires regulatory approval, is expected to be completed by April 2005 and to be earnings accretive in 2006, Standard Chartered said.\n",
      "9. \" Shooting on the sequel is expected to begin in April, with hundreds of Dominicans applying to be extras in the movie.\n",
      "10. 5m (£4m) show were due to begin on 4 April.\n"
     ]
    }
   ],
   "source": [
    "# summary of any events that took place or were scheduled to occur in April.\n",
    "april_summaries = []\n",
    "for _, row in combined_df.iterrows():\n",
    "    if isinstance(row['text'], str) and 'april' in row['text'].lower():\n",
    "        matches = re.findall(r'([^.]*\\bApril\\b[^.]*\\.)', row['text'], flags=re.IGNORECASE)\n",
    "        for match in matches:\n",
    "            if any(kw in match.lower() for kw in ['due', 'scheduled', 'took place', 'expected']):\n",
    "                april_summaries.append(match.strip())\n",
    "\n",
    "# Deduplicate\n",
    "april_summaries = list(set(april_summaries))\n",
    "\n",
    "# Display summaries\n",
    "for i, summary in enumerate(april_summaries[:10], 1):\n",
    "    print(f\"{i}. {summary}\")\n"
   ]
  },
  {
   "cell_type": "markdown",
   "id": "bd335170",
   "metadata": {},
   "source": [
    "In this section, I use the `T5` model to generate news headlines from the article content. `T5` is a powerful encoder-decoder model that can be used for many NLP tasks, including text summarisation."
   ]
  },
  {
   "cell_type": "markdown",
   "id": "1e5f2c11",
   "metadata": {},
   "source": []
  },
  {
   "cell_type": "markdown",
   "id": "e5f31ec9-6b5f-4943-a77f-52517fadff9e",
   "metadata": {},
   "source": [
    "# Section 3: Large Language Models (LLMs) and their fine-tuning"
   ]
  },
  {
   "cell_type": "code",
   "execution_count": 18,
   "id": "34bbd8a8-450b-4c6d-9a33-90ba6a6071ad",
   "metadata": {},
   "outputs": [],
   "source": [
    "# Clean and prepare for fine-tuning\n",
    "combined_df = combined_df[combined_df['subcategory'] != 'not_applicable']\n",
    "combined_df = combined_df[~combined_df['subcategory'].isin(['classification_error'])]  # remove noisy classes\n",
    "combined_df = combined_df[['text', 'subcategory']].dropna()\n",
    "combined_df = combined_df[combined_df['text'].str.len() > 20]"
   ]
  },
  {
   "cell_type": "code",
   "execution_count": 20,
   "id": "6e7bc1ec-6d16-4915-8c99-0f02a5b033ee",
   "metadata": {},
   "outputs": [],
   "source": [
    "from sklearn.model_selection import train_test_split\n",
    "from sklearn.preprocessing import LabelEncoder"
   ]
  },
  {
   "cell_type": "code",
   "execution_count": 22,
   "id": "2a1965f6-ac64-4eb6-a0b5-4008a12a693a",
   "metadata": {},
   "outputs": [],
   "source": [
    "# Encode labels\n",
    "label_encoder = LabelEncoder()\n",
    "combined_df['label'] = label_encoder.fit_transform(combined_df['subcategory'])\n",
    "label_names = list(label_encoder.classes_)"
   ]
  },
  {
   "cell_type": "code",
   "execution_count": 28,
   "id": "e5ac9615-b26f-4b1c-99be-760e5907563b",
   "metadata": {},
   "outputs": [
    {
     "name": "stdout",
     "output_type": "stream",
     "text": [
      "label\n",
      "10    2638\n",
      "4       83\n",
      "8       51\n",
      "2       51\n",
      "12      37\n",
      "3       32\n",
      "1       15\n",
      "7       14\n",
      "6       12\n",
      "15       8\n",
      "14       7\n",
      "0        5\n",
      "11       5\n",
      "13       2\n",
      "9        1\n",
      "5        1\n",
      "Name: count, dtype: int64\n"
     ]
    }
   ],
   "source": [
    "label_counts = combined_df['label'].value_counts()\n",
    "print(label_counts)"
   ]
  },
  {
   "cell_type": "code",
   "execution_count": null,
   "id": "140d067b-eed8-49a6-812d-28d846fae112",
   "metadata": {},
   "outputs": [],
   "source": [
    "# There is no time to continue"
   ]
  }
 ],
 "metadata": {
  "kernelspec": {
   "display_name": "Python 3 (ipykernel)",
   "language": "python",
   "name": "python3"
  },
  "language_info": {
   "codemirror_mode": {
    "name": "ipython",
    "version": 3
   },
   "file_extension": ".py",
   "mimetype": "text/x-python",
   "name": "python",
   "nbconvert_exporter": "python",
   "pygments_lexer": "ipython3",
   "version": "3.11.13"
  }
 },
 "nbformat": 4,
 "nbformat_minor": 5
}
